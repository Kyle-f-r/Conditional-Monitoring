{
 "cells": [
  {
   "cell_type": "markdown",
   "metadata": {},
   "source": [
    "# Scaler Transformations\n",
    "___\n",
    "\n",
    "The following notebook includes the following steps:\n",
    "\n",
    "- Train-Test Split\n",
    "- KNN Imputation\n",
    "- Intialize function for creating a dictionary for Sci-kit Learn scalers and their transformations on the data"
   ]
  },
  {
   "cell_type": "code",
   "execution_count": 23,
   "metadata": {},
   "outputs": [],
   "source": [
    "# Split Data between train and test\n",
    "\n",
    "X_train = df.loc['12-9200':'12-9300',num_cols]\n",
    "y_train = df.loc['12-9200':'12-9300',\"Ground Truth Anomaly\"]\n",
    "X_test = df.loc['12-9301':'12-9370',num_cols]\n",
    "y_test = df.loc['12-9301':'12-9370',\"Ground Truth Anomaly\"]\n",
    "\n",
    "\n",
    "# X_train = df.loc['12-9263':'12-9325',num_cols]\n",
    "# y_train = df.loc['12-9263':'12-9325',\"Ground Truth Anomaly\"]\n",
    "# X_test = df.loc['12-9326':'12-9388',num_cols]\n",
    "# y_test = df.loc['12-9326':'12-9388',\"Ground Truth Anomaly\"]"
   ]
  },
  {
   "cell_type": "code",
   "execution_count": 24,
   "metadata": {},
   "outputs": [
    {
     "name": "stdout",
     "output_type": "stream",
     "text": [
      "\n",
      "0.0    96\n",
      "1.0     1\n",
      "Name: Ground Truth Anomaly, dtype: int64\n"
     ]
    }
   ],
   "source": [
    "print()\n",
    "print(y_train.value_counts())\n"
   ]
  },
  {
   "cell_type": "code",
   "execution_count": 25,
   "metadata": {},
   "outputs": [
    {
     "data": {
      "text/plain": [
       "0.0    63\n",
       "1.0     8\n",
       "Name: Ground Truth Anomaly, dtype: int64"
      ]
     },
     "execution_count": 25,
     "metadata": {},
     "output_type": "execute_result"
    }
   ],
   "source": [
    "y_test.value_counts()"
   ]
  },
  {
   "cell_type": "code",
   "execution_count": 26,
   "metadata": {},
   "outputs": [],
   "source": [
    "# Use KNN Imputer for missing values\n",
    "from sklearn.impute import KNNImputer\n",
    "\n",
    "imputer = KNNImputer(n_neighbors=5)\n",
    "imputed_train = imputer.fit_transform(X_train)\n",
    "X_train_imputed = pd.DataFrame(imputed_train, columns=X_train.columns)\n",
    "X_train_imputed.index = X_train.index\n",
    "\n",
    "\n",
    "imputed_test = imputer.fit_transform(X_test)\n",
    "X_test_imputed = pd.DataFrame(imputed_test, columns=X_test.columns)\n",
    "X_test_imputed.index = X_test.index"
   ]
  },
  {
   "cell_type": "markdown",
   "metadata": {},
   "source": [
    "## Transformation Function\n",
    "___\n",
    "\n",
    "The following function is not of my own creation and all credit goes to Kefei Mo (https://towardsdatascience.com/pca-a-practical-journey-preprocessing-encoding-and-inspiring-applications-64371cb134a)"
   ]
  },
  {
   "cell_type": "code",
   "execution_count": 2,
   "metadata": {},
   "outputs": [],
   "source": [
    "def transformer_bundle(X_train, is_full_compare=True, is_get_instance=False):\n",
    "    if is_full_compare:\n",
    "        transformer_dict = {'StandardScaler': StandardScaler(), \n",
    "                            'QuantileTransformer':QuantileTransformer(), \n",
    "                            'RobustScaler':RobustScaler(), \n",
    "                            #'Normalizer':Normalizer(), \n",
    "                            'MaxAbsScaler':MaxAbsScaler(), \n",
    "                            'MinMaxScaler':MinMaxScaler(), \n",
    "                            'PowerTransformer':PowerTransformer()}\n",
    "    else:\n",
    "        transformer_dict = {'StandardScaler': StandardScaler(), \n",
    "                            'QuantileTransformer':QuantileTransformer(), \n",
    "                            'PowerTransformer':PowerTransformer()}\n",
    "    \n",
    "    X_train_trans_dict = {trs:transformer_dict[trs].fit_transform(X_train) for trs in transformer_dict.keys()} \n",
    "    X_train_trans_dict['NoTransformer'] = X_train.values\n",
    "    \n",
    "    X_train_pca_dict = {trs:PCA().fit_transform(X_train_trans_dict[trs]) for trs in transformer_dict.keys()}\n",
    "    X_train_pca_dict['NoTransformer'] = PCA().fit_transform(X_train)\n",
    "    \n",
    "    instance_pca_dict = {trs:PCA().fit(X_train_trans_dict[trs]) for trs in transformer_dict.keys()}\n",
    "    instance_pca_dict['NoTransformer'] = PCA().fit(X_train)\n",
    "    \n",
    "    if not is_get_instance:\n",
    "        return X_train_trans_dict, X_train_pca_dict\n",
    "    else:\n",
    "        return X_train_trans_dict, X_train_pca_dict, instance_pca_dict"
   ]
  }
 ],
 "metadata": {
  "interpreter": {
   "hash": "533f42cc1718b4e514b78a4bcd7158294e27b7c18264f40c4fe062bcb1773c09"
  },
  "kernelspec": {
   "display_name": "Python 3",
   "language": "python",
   "name": "python3"
  },
  "language_info": {
   "codemirror_mode": {
    "name": "ipython",
    "version": 3
   },
   "file_extension": ".py",
   "mimetype": "text/x-python",
   "name": "python",
   "nbconvert_exporter": "python",
   "pygments_lexer": "ipython3",
   "version": "3.8.8"
  }
 },
 "nbformat": 4,
 "nbformat_minor": 2
}
